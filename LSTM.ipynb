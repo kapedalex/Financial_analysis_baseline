{
 "cells": [
  {
   "cell_type": "code",
   "execution_count": 1,
   "id": "ea12608b",
   "metadata": {},
   "outputs": [
    {
     "name": "stderr",
     "output_type": "stream",
     "text": [
      "DEPRECATION: Loading egg at b:\\my dear python projects\\intepreter\\lib\\site-packages\\vboxapi-1.0-py3.11.egg is deprecated. pip 23.3 will enforce this behaviour change. A possible replacement is to use pip for package installation..\n",
      "DEPRECATION: Loading egg at b:\\my dear python projects\\intepreter\\lib\\site-packages\\vboxapi-1.0-py3.11.egg is deprecated. pip 23.3 will enforce this behaviour change. A possible replacement is to use pip for package installation..\n",
      "DEPRECATION: Loading egg at b:\\my dear python projects\\intepreter\\lib\\site-packages\\vboxapi-1.0-py3.11.egg is deprecated. pip 23.3 will enforce this behaviour change. A possible replacement is to use pip for package installation..\n",
      "DEPRECATION: Loading egg at b:\\my dear python projects\\intepreter\\lib\\site-packages\\vboxapi-1.0-py3.11.egg is deprecated. pip 23.3 will enforce this behaviour change. A possible replacement is to use pip for package installation..\n"
     ]
    }
   ],
   "source": [
    "!pip install yfinance -q\n",
    "!pip install pandas -q\n",
    "!pip install numpy -q\n",
    "!pip install scipy -q"
   ]
  },
  {
   "cell_type": "code",
   "execution_count": 2,
   "id": "dcd13312",
   "metadata": {},
   "outputs": [],
   "source": [
    "import time\n",
    "import yfinance as yf\n",
    "import pandas as pd\n",
    "import numpy as np\n",
    "import scipy.optimize as optimize\n",
    "import scipy.interpolate as sci\n",
    "import matplotlib.pyplot as plt \n",
    "from sklearn.preprocessing import StandardScaler\n",
    "from sklearn.model_selection import train_test_split\n",
    "from sklearn.metrics import accuracy_score\n",
    "from tensorflow import keras\n",
    "from tensorflow.keras.models import Sequential\n",
    "from tensorflow.keras.layers import LSTM, Dense"
   ]
  },
  {
   "cell_type": "code",
   "execution_count": 3,
   "id": "e5447ae3",
   "metadata": {},
   "outputs": [],
   "source": [
    "def fetch_data(assets: list) -> pd.DataFrame:\n",
    "    \n",
    "    df = pd.DataFrame()\n",
    "    \n",
    "    for asset in assets:\n",
    "        temp = yf.download(asset, start='2000-01-01', end='2023-08-27')\n",
    "        \n",
    "        temp.columns = [f\"{asset}_{col}\" for col in temp.columns]\n",
    "        \n",
    "        if df.empty:\n",
    "            df = temp\n",
    "        else:\n",
    "            df = df.merge(temp, how='outer', left_index=True, right_index=True)\n",
    "    \n",
    "    df.dropna(inplace=True)\n",
    "    \n",
    "    return df"
   ]
  },
  {
   "cell_type": "code",
   "execution_count": 4,
   "id": "69d04167",
   "metadata": {},
   "outputs": [
    {
     "name": "stdout",
     "output_type": "stream",
     "text": [
      "[*********************100%%**********************]  1 of 1 completed\n"
     ]
    }
   ],
   "source": [
    "df = fetch_data (['TLT'])"
   ]
  },
  {
   "cell_type": "code",
   "execution_count": 5,
   "id": "5f0dd119",
   "metadata": {},
   "outputs": [],
   "source": [
    "# Standardize data\n",
    "scaler = StandardScaler()\n",
    "df_scaled = scaler.fit_transform(df)\n",
    "\n",
    "# Convert to DataFrame\n",
    "df_scaled = pd.DataFrame(df_scaled, columns=df.columns)\n",
    "\n",
    "# Fill NaNs with last known values (ffill)\n",
    "df_scaled.fillna(method='ffill', inplace=True)"
   ]
  },
  {
   "cell_type": "code",
   "execution_count": 6,
   "id": "edf8df3e",
   "metadata": {},
   "outputs": [
    {
     "data": {
      "text/html": [
       "<div>\n",
       "<style scoped>\n",
       "    .dataframe tbody tr th:only-of-type {\n",
       "        vertical-align: middle;\n",
       "    }\n",
       "\n",
       "    .dataframe tbody tr th {\n",
       "        vertical-align: top;\n",
       "    }\n",
       "\n",
       "    .dataframe thead th {\n",
       "        text-align: right;\n",
       "    }\n",
       "</style>\n",
       "<table border=\"1\" class=\"dataframe\">\n",
       "  <thead>\n",
       "    <tr style=\"text-align: right;\">\n",
       "      <th></th>\n",
       "      <th>TLT_Open</th>\n",
       "      <th>TLT_High</th>\n",
       "      <th>TLT_Low</th>\n",
       "      <th>TLT_Close</th>\n",
       "      <th>TLT_Adj Close</th>\n",
       "      <th>TLT_Volume</th>\n",
       "    </tr>\n",
       "  </thead>\n",
       "  <tbody>\n",
       "    <tr>\n",
       "      <th>0</th>\n",
       "      <td>-1.380586</td>\n",
       "      <td>-1.389783</td>\n",
       "      <td>-1.375842</td>\n",
       "      <td>-1.392767</td>\n",
       "      <td>-1.519215</td>\n",
       "      <td>-1.060270</td>\n",
       "    </tr>\n",
       "    <tr>\n",
       "      <th>1</th>\n",
       "      <td>-1.371095</td>\n",
       "      <td>-1.347311</td>\n",
       "      <td>-1.357705</td>\n",
       "      <td>-1.344813</td>\n",
       "      <td>-1.502892</td>\n",
       "      <td>-1.057019</td>\n",
       "    </tr>\n",
       "    <tr>\n",
       "      <th>2</th>\n",
       "      <td>-1.343098</td>\n",
       "      <td>-1.336930</td>\n",
       "      <td>-1.327159</td>\n",
       "      <td>-1.322499</td>\n",
       "      <td>-1.495296</td>\n",
       "      <td>-1.057633</td>\n",
       "    </tr>\n",
       "    <tr>\n",
       "      <th>3</th>\n",
       "      <td>-1.313677</td>\n",
       "      <td>-1.285964</td>\n",
       "      <td>-1.310931</td>\n",
       "      <td>-1.282142</td>\n",
       "      <td>-1.481558</td>\n",
       "      <td>-1.053754</td>\n",
       "    </tr>\n",
       "    <tr>\n",
       "      <th>4</th>\n",
       "      <td>-1.271919</td>\n",
       "      <td>-1.269919</td>\n",
       "      <td>-1.264634</td>\n",
       "      <td>-1.264575</td>\n",
       "      <td>-1.475578</td>\n",
       "      <td>-1.052596</td>\n",
       "    </tr>\n",
       "    <tr>\n",
       "      <th>...</th>\n",
       "      <td>...</td>\n",
       "      <td>...</td>\n",
       "      <td>...</td>\n",
       "      <td>...</td>\n",
       "      <td>...</td>\n",
       "      <td>...</td>\n",
       "    </tr>\n",
       "    <tr>\n",
       "      <th>5301</th>\n",
       "      <td>-0.862874</td>\n",
       "      <td>-0.877291</td>\n",
       "      <td>-0.864666</td>\n",
       "      <td>-0.870505</td>\n",
       "      <td>0.173555</td>\n",
       "      <td>3.020244</td>\n",
       "    </tr>\n",
       "    <tr>\n",
       "      <th>5302</th>\n",
       "      <td>-0.863824</td>\n",
       "      <td>-0.852752</td>\n",
       "      <td>-0.853688</td>\n",
       "      <td>-0.836795</td>\n",
       "      <td>0.196656</td>\n",
       "      <td>1.913756</td>\n",
       "    </tr>\n",
       "    <tr>\n",
       "      <th>5303</th>\n",
       "      <td>-0.785052</td>\n",
       "      <td>-0.745628</td>\n",
       "      <td>-0.769208</td>\n",
       "      <td>-0.727120</td>\n",
       "      <td>0.271815</td>\n",
       "      <td>4.281537</td>\n",
       "    </tr>\n",
       "    <tr>\n",
       "      <th>5304</th>\n",
       "      <td>-0.745666</td>\n",
       "      <td>-0.745628</td>\n",
       "      <td>-0.737707</td>\n",
       "      <td>-0.757031</td>\n",
       "      <td>0.251317</td>\n",
       "      <td>2.050159</td>\n",
       "    </tr>\n",
       "    <tr>\n",
       "      <th>5305</th>\n",
       "      <td>-0.767969</td>\n",
       "      <td>-0.747516</td>\n",
       "      <td>-0.755844</td>\n",
       "      <td>-0.742313</td>\n",
       "      <td>0.261403</td>\n",
       "      <td>2.268123</td>\n",
       "    </tr>\n",
       "  </tbody>\n",
       "</table>\n",
       "<p>5306 rows × 6 columns</p>\n",
       "</div>"
      ],
      "text/plain": [
       "      TLT_Open  TLT_High   TLT_Low  TLT_Close  TLT_Adj Close  TLT_Volume\n",
       "0    -1.380586 -1.389783 -1.375842  -1.392767      -1.519215   -1.060270\n",
       "1    -1.371095 -1.347311 -1.357705  -1.344813      -1.502892   -1.057019\n",
       "2    -1.343098 -1.336930 -1.327159  -1.322499      -1.495296   -1.057633\n",
       "3    -1.313677 -1.285964 -1.310931  -1.282142      -1.481558   -1.053754\n",
       "4    -1.271919 -1.269919 -1.264634  -1.264575      -1.475578   -1.052596\n",
       "...        ...       ...       ...        ...            ...         ...\n",
       "5301 -0.862874 -0.877291 -0.864666  -0.870505       0.173555    3.020244\n",
       "5302 -0.863824 -0.852752 -0.853688  -0.836795       0.196656    1.913756\n",
       "5303 -0.785052 -0.745628 -0.769208  -0.727120       0.271815    4.281537\n",
       "5304 -0.745666 -0.745628 -0.737707  -0.757031       0.251317    2.050159\n",
       "5305 -0.767969 -0.747516 -0.755844  -0.742313       0.261403    2.268123\n",
       "\n",
       "[5306 rows x 6 columns]"
      ]
     },
     "execution_count": 6,
     "metadata": {},
     "output_type": "execute_result"
    }
   ],
   "source": [
    "df_scaled"
   ]
  },
  {
   "cell_type": "code",
   "execution_count": 8,
   "id": "b34d5333",
   "metadata": {},
   "outputs": [],
   "source": [
    "df_scaled['Target'] = np.where(df_scaled['TLT_Adj Close'].shift(-1) < df_scaled['TLT_Adj Close'], 1, 0)"
   ]
  },
  {
   "cell_type": "code",
   "execution_count": 9,
   "id": "4594ed49",
   "metadata": {},
   "outputs": [
    {
     "data": {
      "text/html": [
       "<div>\n",
       "<style scoped>\n",
       "    .dataframe tbody tr th:only-of-type {\n",
       "        vertical-align: middle;\n",
       "    }\n",
       "\n",
       "    .dataframe tbody tr th {\n",
       "        vertical-align: top;\n",
       "    }\n",
       "\n",
       "    .dataframe thead th {\n",
       "        text-align: right;\n",
       "    }\n",
       "</style>\n",
       "<table border=\"1\" class=\"dataframe\">\n",
       "  <thead>\n",
       "    <tr style=\"text-align: right;\">\n",
       "      <th></th>\n",
       "      <th>TLT_Open</th>\n",
       "      <th>TLT_High</th>\n",
       "      <th>TLT_Low</th>\n",
       "      <th>TLT_Close</th>\n",
       "      <th>TLT_Adj Close</th>\n",
       "      <th>TLT_Volume</th>\n",
       "      <th>Target</th>\n",
       "    </tr>\n",
       "  </thead>\n",
       "  <tbody>\n",
       "    <tr>\n",
       "      <th>0</th>\n",
       "      <td>-1.380586</td>\n",
       "      <td>-1.389783</td>\n",
       "      <td>-1.375842</td>\n",
       "      <td>-1.392767</td>\n",
       "      <td>-1.519215</td>\n",
       "      <td>-1.060270</td>\n",
       "      <td>0</td>\n",
       "    </tr>\n",
       "    <tr>\n",
       "      <th>1</th>\n",
       "      <td>-1.371095</td>\n",
       "      <td>-1.347311</td>\n",
       "      <td>-1.357705</td>\n",
       "      <td>-1.344813</td>\n",
       "      <td>-1.502892</td>\n",
       "      <td>-1.057019</td>\n",
       "      <td>0</td>\n",
       "    </tr>\n",
       "    <tr>\n",
       "      <th>2</th>\n",
       "      <td>-1.343098</td>\n",
       "      <td>-1.336930</td>\n",
       "      <td>-1.327159</td>\n",
       "      <td>-1.322499</td>\n",
       "      <td>-1.495296</td>\n",
       "      <td>-1.057633</td>\n",
       "      <td>0</td>\n",
       "    </tr>\n",
       "    <tr>\n",
       "      <th>3</th>\n",
       "      <td>-1.313677</td>\n",
       "      <td>-1.285964</td>\n",
       "      <td>-1.310931</td>\n",
       "      <td>-1.282142</td>\n",
       "      <td>-1.481558</td>\n",
       "      <td>-1.053754</td>\n",
       "      <td>0</td>\n",
       "    </tr>\n",
       "    <tr>\n",
       "      <th>4</th>\n",
       "      <td>-1.271919</td>\n",
       "      <td>-1.269919</td>\n",
       "      <td>-1.264634</td>\n",
       "      <td>-1.264575</td>\n",
       "      <td>-1.475578</td>\n",
       "      <td>-1.052596</td>\n",
       "      <td>1</td>\n",
       "    </tr>\n",
       "    <tr>\n",
       "      <th>...</th>\n",
       "      <td>...</td>\n",
       "      <td>...</td>\n",
       "      <td>...</td>\n",
       "      <td>...</td>\n",
       "      <td>...</td>\n",
       "      <td>...</td>\n",
       "      <td>...</td>\n",
       "    </tr>\n",
       "    <tr>\n",
       "      <th>5301</th>\n",
       "      <td>-0.862874</td>\n",
       "      <td>-0.877291</td>\n",
       "      <td>-0.864666</td>\n",
       "      <td>-0.870505</td>\n",
       "      <td>0.173555</td>\n",
       "      <td>3.020244</td>\n",
       "      <td>0</td>\n",
       "    </tr>\n",
       "    <tr>\n",
       "      <th>5302</th>\n",
       "      <td>-0.863824</td>\n",
       "      <td>-0.852752</td>\n",
       "      <td>-0.853688</td>\n",
       "      <td>-0.836795</td>\n",
       "      <td>0.196656</td>\n",
       "      <td>1.913756</td>\n",
       "      <td>0</td>\n",
       "    </tr>\n",
       "    <tr>\n",
       "      <th>5303</th>\n",
       "      <td>-0.785052</td>\n",
       "      <td>-0.745628</td>\n",
       "      <td>-0.769208</td>\n",
       "      <td>-0.727120</td>\n",
       "      <td>0.271815</td>\n",
       "      <td>4.281537</td>\n",
       "      <td>1</td>\n",
       "    </tr>\n",
       "    <tr>\n",
       "      <th>5304</th>\n",
       "      <td>-0.745666</td>\n",
       "      <td>-0.745628</td>\n",
       "      <td>-0.737707</td>\n",
       "      <td>-0.757031</td>\n",
       "      <td>0.251317</td>\n",
       "      <td>2.050159</td>\n",
       "      <td>0</td>\n",
       "    </tr>\n",
       "    <tr>\n",
       "      <th>5305</th>\n",
       "      <td>-0.767969</td>\n",
       "      <td>-0.747516</td>\n",
       "      <td>-0.755844</td>\n",
       "      <td>-0.742313</td>\n",
       "      <td>0.261403</td>\n",
       "      <td>2.268123</td>\n",
       "      <td>0</td>\n",
       "    </tr>\n",
       "  </tbody>\n",
       "</table>\n",
       "<p>5306 rows × 7 columns</p>\n",
       "</div>"
      ],
      "text/plain": [
       "      TLT_Open  TLT_High   TLT_Low  TLT_Close  TLT_Adj Close  TLT_Volume  \\\n",
       "0    -1.380586 -1.389783 -1.375842  -1.392767      -1.519215   -1.060270   \n",
       "1    -1.371095 -1.347311 -1.357705  -1.344813      -1.502892   -1.057019   \n",
       "2    -1.343098 -1.336930 -1.327159  -1.322499      -1.495296   -1.057633   \n",
       "3    -1.313677 -1.285964 -1.310931  -1.282142      -1.481558   -1.053754   \n",
       "4    -1.271919 -1.269919 -1.264634  -1.264575      -1.475578   -1.052596   \n",
       "...        ...       ...       ...        ...            ...         ...   \n",
       "5301 -0.862874 -0.877291 -0.864666  -0.870505       0.173555    3.020244   \n",
       "5302 -0.863824 -0.852752 -0.853688  -0.836795       0.196656    1.913756   \n",
       "5303 -0.785052 -0.745628 -0.769208  -0.727120       0.271815    4.281537   \n",
       "5304 -0.745666 -0.745628 -0.737707  -0.757031       0.251317    2.050159   \n",
       "5305 -0.767969 -0.747516 -0.755844  -0.742313       0.261403    2.268123   \n",
       "\n",
       "      Target  \n",
       "0          0  \n",
       "1          0  \n",
       "2          0  \n",
       "3          0  \n",
       "4          1  \n",
       "...      ...  \n",
       "5301       0  \n",
       "5302       0  \n",
       "5303       1  \n",
       "5304       0  \n",
       "5305       0  \n",
       "\n",
       "[5306 rows x 7 columns]"
      ]
     },
     "execution_count": 9,
     "metadata": {},
     "output_type": "execute_result"
    }
   ],
   "source": [
    "df_scaled"
   ]
  },
  {
   "cell_type": "code",
   "execution_count": 10,
   "id": "31fa4c72",
   "metadata": {},
   "outputs": [],
   "source": [
    "X = df_scaled.drop('Target', axis=1)\n",
    "y = df_scaled['Target']\n",
    "\n",
    "X_train, X_test, y_train, y_test = train_test_split(X, y, test_size=0.2, random_state=42, shuffle=False)"
   ]
  },
  {
   "cell_type": "markdown",
   "id": "9b50084d",
   "metadata": {},
   "source": [
    "# LSTM"
   ]
  },
  {
   "cell_type": "code",
   "execution_count": 11,
   "id": "6ab3af6b",
   "metadata": {},
   "outputs": [
    {
     "name": "stdout",
     "output_type": "stream",
     "text": [
      "Epoch 1/10\n",
      "120/120 [==============================] - 12s 32ms/step - loss: 0.6911 - accuracy: 0.5352 - val_loss: 0.6914 - val_accuracy: 0.5294\n",
      "Epoch 2/10\n",
      "120/120 [==============================] - 2s 19ms/step - loss: 0.6908 - accuracy: 0.5357 - val_loss: 0.6916 - val_accuracy: 0.5294\n",
      "Epoch 3/10\n",
      "120/120 [==============================] - 2s 20ms/step - loss: 0.6911 - accuracy: 0.5360 - val_loss: 0.6916 - val_accuracy: 0.5294\n",
      "Epoch 4/10\n",
      "120/120 [==============================] - 2s 19ms/step - loss: 0.6909 - accuracy: 0.5360 - val_loss: 0.6915 - val_accuracy: 0.5294\n",
      "Epoch 5/10\n",
      "120/120 [==============================] - 2s 18ms/step - loss: 0.6910 - accuracy: 0.5360 - val_loss: 0.6914 - val_accuracy: 0.5294\n",
      "Epoch 6/10\n",
      "120/120 [==============================] - 2s 18ms/step - loss: 0.6907 - accuracy: 0.5360 - val_loss: 0.6915 - val_accuracy: 0.5294\n",
      "Epoch 7/10\n",
      "120/120 [==============================] - 2s 20ms/step - loss: 0.6911 - accuracy: 0.5360 - val_loss: 0.6914 - val_accuracy: 0.5294\n",
      "Epoch 8/10\n",
      "120/120 [==============================] - 3s 22ms/step - loss: 0.6907 - accuracy: 0.5360 - val_loss: 0.6914 - val_accuracy: 0.5294\n",
      "Epoch 9/10\n",
      "120/120 [==============================] - 3s 23ms/step - loss: 0.6907 - accuracy: 0.5360 - val_loss: 0.6914 - val_accuracy: 0.5294\n",
      "Epoch 10/10\n",
      "120/120 [==============================] - 3s 21ms/step - loss: 0.6909 - accuracy: 0.5360 - val_loss: 0.6914 - val_accuracy: 0.5294\n"
     ]
    },
    {
     "data": {
      "text/plain": [
       "<keras.callbacks.History at 0x2416d187d50>"
      ]
     },
     "execution_count": 11,
     "metadata": {},
     "output_type": "execute_result"
    }
   ],
   "source": [
    "from keras.models import Sequential\n",
    "from keras.layers import LSTM, Dense, Dropout\n",
    "\n",
    "model = Sequential([\n",
    "    LSTM(128, return_sequences=True, input_shape=(X_train.shape[1], 1)),\n",
    "    LSTM(64, return_sequences=True),\n",
    "    LSTM(64, return_sequences=True),\n",
    "    LSTM(32),\n",
    "    Dropout(0.2),\n",
    "    Dense(1, activation='sigmoid')\n",
    "])\n",
    "\n",
    "\n",
    "model.compile(loss='binary_crossentropy', optimizer='adam', metrics=['accuracy'])\n",
    "\n",
    "X_train_lstm = X_train.values.reshape(X_train.shape[0], X_train.shape[1], 1)\n",
    "X_test_lstm = X_test.values.reshape(X_test.shape[0], X_test.shape[1], 1)\n",
    "\n",
    "model.fit(X_train_lstm, y_train, epochs=10, batch_size=32, validation_split=0.1)"
   ]
  },
  {
   "cell_type": "code",
   "execution_count": 12,
   "id": "9642acdf",
   "metadata": {},
   "outputs": [],
   "source": [
    "X = df_scaled.drop('Target', axis=1)\n",
    "y = df_scaled['Target']"
   ]
  },
  {
   "cell_type": "code",
   "execution_count": 13,
   "id": "a17b8878",
   "metadata": {},
   "outputs": [
    {
     "name": "stdout",
     "output_type": "stream",
     "text": [
      "34/34 [==============================] - 2s 6ms/step\n",
      "LSTM Accuracy: 0.5018832391713748\n"
     ]
    }
   ],
   "source": [
    "y_pred = model.predict(X_test_lstm)\n",
    "y_pred_binary = np.where(y_pred > 0.5, 1, 0)\n",
    "\n",
    "accuracy = accuracy_score(y_test, y_pred_binary)\n",
    "print(\"LSTM Accuracy:\", accuracy)"
   ]
  },
  {
   "cell_type": "markdown",
   "id": "88c231e1",
   "metadata": {},
   "source": [
    "# Naive"
   ]
  },
  {
   "cell_type": "code",
   "execution_count": 14,
   "id": "42a082a0",
   "metadata": {},
   "outputs": [
    {
     "name": "stdout",
     "output_type": "stream",
     "text": [
      "Naive Approach Accuracy: 0.4839924670433145\n"
     ]
    }
   ],
   "source": [
    "X = df_scaled.drop('Target', axis=1)\n",
    "y = df_scaled['Target']\n",
    "\n",
    "X_train, X_test, y_train, y_test = train_test_split(X, y, test_size=0.2, random_state=42, shuffle=False)\n",
    "y_pred_naive = y_test.shift(1).fillna(0)\n",
    "\n",
    "accuracy_naive = accuracy_score(y_test, y_pred_naive)\n",
    "print(\"Naive Approach Accuracy:\", accuracy_naive)"
   ]
  },
  {
   "cell_type": "code",
   "execution_count": null,
   "id": "db818847",
   "metadata": {},
   "outputs": [],
   "source": []
  },
  {
   "cell_type": "code",
   "execution_count": null,
   "id": "63d2efa5",
   "metadata": {},
   "outputs": [],
   "source": []
  }
 ],
 "metadata": {
  "kernelspec": {
   "display_name": "Python 3 (ipykernel)",
   "language": "python",
   "name": "python3"
  },
  "language_info": {
   "codemirror_mode": {
    "name": "ipython",
    "version": 3
   },
   "file_extension": ".py",
   "mimetype": "text/x-python",
   "name": "python",
   "nbconvert_exporter": "python",
   "pygments_lexer": "ipython3",
   "version": "3.11.0"
  }
 },
 "nbformat": 4,
 "nbformat_minor": 5
}
